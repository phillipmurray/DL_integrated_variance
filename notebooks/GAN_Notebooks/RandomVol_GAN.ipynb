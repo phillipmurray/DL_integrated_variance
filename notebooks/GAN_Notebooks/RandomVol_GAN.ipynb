{
 "cells": [
  {
   "cell_type": "code",
   "execution_count": 1,
   "id": "studied-indication",
   "metadata": {},
   "outputs": [],
   "source": [
    "%load_ext autoreload\n",
    "%autoreload 2"
   ]
  },
  {
   "cell_type": "code",
   "execution_count": 2,
   "id": "suitable-faculty",
   "metadata": {},
   "outputs": [],
   "source": [
    "import sys\n",
    "sys.path.append(\"../..\")"
   ]
  },
  {
   "cell_type": "code",
   "execution_count": 3,
   "id": "contemporary-latino",
   "metadata": {},
   "outputs": [],
   "source": [
    "from src.vols.random_vol import *\n",
    "from src.gans.ivgan import IVGan\n",
    "from src.networks.ffn import FFNetwork\n",
    "from src.utils import *\n",
    "import numpy as np\n",
    "import seaborn as sns\n",
    "import matplotlib.pyplot as plt\n",
    "set_plot_params()"
   ]
  },
  {
   "cell_type": "code",
   "execution_count": 5,
   "id": "growing-elite",
   "metadata": {},
   "outputs": [],
   "source": [
    "N_paths = 100000\n",
    "total_timesteps = 60*60*7.5 #1 second data\n",
    "n_timesteps = 60 #train at 1 min interval\n",
    "\n",
    "vol_model = RandomVol(distribution = np.random.standard_normal)\n",
    "spots, vols = vol_model.generate(N_paths, total_timesteps, n_timesteps, reshape_for_rnn=True)"
   ]
  },
  {
   "cell_type": "code",
   "execution_count": 7,
   "id": "everyday-excuse",
   "metadata": {},
   "outputs": [],
   "source": [
    "generator = FFNetwork(n_layers=3, h_dims=32, loss=None, batch_norm = True, lr=0.00001)\n",
    "discriminator = FFNetwork(n_layers=3, h_dims=32, loss=None,  batch_norm = True, lr=0.00002)"
   ]
  },
  {
   "cell_type": "code",
   "execution_count": 8,
   "id": "under-dylan",
   "metadata": {},
   "outputs": [],
   "source": [
    "gan = IVGan(discriminator, generator)"
   ]
  },
  {
   "cell_type": "code",
   "execution_count": null,
   "id": "worst-possible",
   "metadata": {},
   "outputs": [
    {
     "data": {
      "application/vnd.jupyter.widget-view+json": {
       "model_id": "97d7922bba64444ea366db13dc60d981",
       "version_major": 2,
       "version_minor": 0
      },
      "text/plain": [
       "Epoch 1 of 30:   0%|          | 0/378 [00:00<?, ?it/s]"
      ]
     },
     "metadata": {},
     "output_type": "display_data"
    },
    {
     "data": {
      "image/png": "[encoded data removed]",
      "text/plain": [
       "<Figure size 600x600 with 1 Axes>"
      ]
     },
     "metadata": {
      "needs_background": "light"
     },
     "output_type": "display_data"
    },
    {
     "data": {
      "application/vnd.jupyter.widget-view+json": {
       "model_id": "b3763177cc9b40d2834809e4ee817362",
       "version_major": 2,
       "version_minor": 0
      },
      "text/plain": [
       "Epoch 2 of 30:   0%|          | 0/378 [00:00<?, ?it/s]"
      ]
     },
     "metadata": {},
     "output_type": "display_data"
    }
   ],
   "source": [
    "result = gan.train(x_train=spots.squeeze(-1),\n",
    "        true_sample=np.random.normal(size=(N_paths, 1)),\n",
    "        num_epochs=30,\n",
    "        batch_size=264,\n",
    "        clip=0.5,\n",
    "        num_critic=5,\n",
    "        show_hist=False,\n",
    "        show_rmse = True,\n",
    "        vol_model = vol_model\n",
    ")"
   ]
  },
  {
   "cell_type": "code",
   "execution_count": null,
   "id": "ignored-advancement",
   "metadata": {},
   "outputs": [],
   "source": []
  }
 ],
 "metadata": {
  "kernelspec": {
   "display_name": "Python 3",
   "language": "python",
   "name": "python3"
  },
  "language_info": {
   "codemirror_mode": {
    "name": "ipython",
    "version": 3
   },
   "file_extension": ".py",
   "mimetype": "text/x-python",
   "name": "python",
   "nbconvert_exporter": "python",
   "pygments_lexer": "ipython3",
   "version": "3.7.9"
  }
 },
 "nbformat": 4,
 "nbformat_minor": 5
}
