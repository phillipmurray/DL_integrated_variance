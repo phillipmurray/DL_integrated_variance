{
 "cells": [
  {
   "cell_type": "code",
   "execution_count": 1,
   "id": "sublime-temple",
   "metadata": {},
   "outputs": [],
   "source": [
    "%load_ext autoreload\n",
    "%autoreload 2"
   ]
  },
  {
   "cell_type": "code",
   "execution_count": 2,
   "id": "choice-karma",
   "metadata": {},
   "outputs": [],
   "source": [
    "import sys\n",
    "sys.path.append(\"../..\")"
   ]
  },
  {
   "cell_type": "code",
   "execution_count": 52,
   "id": "chief-prescription",
   "metadata": {},
   "outputs": [],
   "source": [
    "from src.vols.heston import Heston\n",
    "from src.losses.rbfmmdloss import RBFMMDLoss\n",
    "from src.networks.ffn import FFNetwork\n",
    "from src.networks.cnn import CNNetwork\n",
    "from src.gans.ivgan import IVGan\n",
    "import numpy as np\n",
    "import seaborn as sns\n",
    "import matplotlib.pyplot as plt\n",
    "import tensorflow as tf\n",
    "#set_plot_params()"
   ]
  },
  {
   "cell_type": "code",
   "execution_count": 246,
   "id": "common-merchandise",
   "metadata": {},
   "outputs": [],
   "source": [
    "N_paths = 100000\n",
    "total_timesteps = 60*60*7.5 #1 second data\n",
    "n_timesteps = 10 #train at 1 min interval\n",
    "\n",
    "heston_model = Heston(theta=1.0, omega=0.04, xi=1.0, rho=0.0)\n",
    "spots, vols = heston_model.generate(N_paths, total_timesteps, n_timesteps, reshape_for_rnn=True)"
   ]
  },
  {
   "cell_type": "code",
   "execution_count": 247,
   "id": "surgical-disco",
   "metadata": {},
   "outputs": [],
   "source": [
    "true_samples = (spots[:,-1,0] - spots[:,0,0])/np.sqrt(tf.squeeze(heston_model.integrated_variance()))"
   ]
  },
  {
   "cell_type": "code",
   "execution_count": 280,
   "id": "virgin-daughter",
   "metadata": {},
   "outputs": [],
   "source": [
    "critic = FFNetwork(3,h_dims= 264,input_shape = (64))\n",
    "generator = CNNetwork(int(n_timesteps), 1, 1)"
   ]
  },
  {
   "cell_type": "code",
   "execution_count": 281,
   "id": "capital-grenada",
   "metadata": {},
   "outputs": [],
   "source": [
    "WGAN = IVGan(critic,generator)"
   ]
  },
  {
   "cell_type": "code",
   "execution_count": 282,
   "id": "administrative-interpretation",
   "metadata": {},
   "outputs": [
    {
     "data": {
      "application/vnd.jupyter.widget-view+json": {
       "model_id": "41fbece5ac9d4b269741d00014dfe51d",
       "version_major": 2,
       "version_minor": 0
      },
      "text/plain": [
       "Epoch 1 of 5:   0%|          | 0/378 [00:00<?, ?it/s]"
      ]
     },
     "metadata": {},
     "output_type": "display_data"
    },
    {
     "data": {
      "application/vnd.jupyter.widget-view+json": {
       "model_id": "05435c73cb1e4f2aaead37c33b23a887",
       "version_major": 2,
       "version_minor": 0
      },
      "text/plain": [
       "Epoch 2 of 5:   0%|          | 0/378 [00:00<?, ?it/s]"
      ]
     },
     "metadata": {},
     "output_type": "display_data"
    },
    {
     "data": {
      "application/vnd.jupyter.widget-view+json": {
       "model_id": "f24b629b201e44f0bb14936abf4f4ed5",
       "version_major": 2,
       "version_minor": 0
      },
      "text/plain": [
       "Epoch 3 of 5:   0%|          | 0/378 [00:00<?, ?it/s]"
      ]
     },
     "metadata": {},
     "output_type": "display_data"
    },
    {
     "data": {
      "application/vnd.jupyter.widget-view+json": {
       "model_id": "3a2a7ce553934b66870b731c0d7f7836",
       "version_major": 2,
       "version_minor": 0
      },
      "text/plain": [
       "Epoch 4 of 5:   0%|          | 0/378 [00:00<?, ?it/s]"
      ]
     },
     "metadata": {},
     "output_type": "display_data"
    },
    {
     "data": {
      "application/vnd.jupyter.widget-view+json": {
       "model_id": "85738d8112454d0392a930eef512dbae",
       "version_major": 2,
       "version_minor": 0
      },
      "text/plain": [
       "Epoch 5 of 5:   0%|          | 0/378 [00:00<?, ?it/s]"
      ]
     },
     "metadata": {},
     "output_type": "display_data"
    }
   ],
   "source": [
    "history = WGAN.train(x_train = spots, true_sample = true_samples, num_epochs = 5, batch_size = 264, lr=0.00005, clip= 0.0001 )"
   ]
  },
  {
   "cell_type": "code",
   "execution_count": 283,
   "id": "entire-local",
   "metadata": {},
   "outputs": [
    {
     "data": {
      "text/plain": [
       "[<matplotlib.lines.Line2D at 0x7faf49a8a310>]"
      ]
     },
     "execution_count": 283,
     "metadata": {},
     "output_type": "execute_result"
    },
    {
     "data": {
      "image/png": "[encoded data removed]",
      "text/plain": [
       "<Figure size 432x288 with 1 Axes>"
      ]
     },
     "metadata": {
      "needs_background": "light"
     },
     "output_type": "display_data"
    }
   ],
   "source": [
    "plt.plot(history[\"generator_loss\"])"
   ]
  },
  {
   "cell_type": "code",
   "execution_count": 284,
   "id": "different-theology",
   "metadata": {},
   "outputs": [
    {
     "data": {
      "text/plain": [
       "[<matplotlib.lines.Line2D at 0x7faf4abe3290>]"
      ]
     },
     "execution_count": 284,
     "metadata": {},
     "output_type": "execute_result"
    },
    {
     "data": {
      "image/png": "[encoded data removed]",
      "text/plain": [
       "<Figure size 432x288 with 1 Axes>"
      ]
     },
     "metadata": {
      "needs_background": "light"
     },
     "output_type": "display_data"
    }
   ],
   "source": [
    "plt.plot(history[\"critic_loss\"])"
   ]
  },
  {
   "cell_type": "code",
   "execution_count": null,
   "id": "supposed-species",
   "metadata": {},
   "outputs": [],
   "source": []
  }
 ],
 "metadata": {
  "kernelspec": {
   "display_name": "Python [conda env:dl_iv] *",
   "language": "python",
   "name": "conda-env-dl_iv-py"
  },
  "language_info": {
   "codemirror_mode": {
    "name": "ipython",
    "version": 3
   },
   "file_extension": ".py",
   "mimetype": "text/x-python",
   "name": "python",
   "nbconvert_exporter": "python",
   "pygments_lexer": "ipython3",
   "version": "3.7.9"
  }
 },
 "nbformat": 4,
 "nbformat_minor": 5
}
