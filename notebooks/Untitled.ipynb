{
 "cells": [
  {
   "cell_type": "code",
   "execution_count": 4,
   "metadata": {},
   "outputs": [
    {
     "name": "stdout",
     "output_type": "stream",
     "text": [
      "The autoreload extension is already loaded. To reload it, use:\n",
      "  %reload_ext autoreload\n"
     ]
    }
   ],
   "source": [
    "%load_ext autoreload\n",
    "%autoreload 2"
   ]
  },
  {
   "cell_type": "code",
   "execution_count": 5,
   "metadata": {},
   "outputs": [],
   "source": [
    "import sys\n",
    "sys.path.append(\"..\")"
   ]
  },
  {
   "cell_type": "code",
   "execution_count": 147,
   "metadata": {},
   "outputs": [],
   "source": [
    "from src.data_generator import *\n",
    "from src.model import *"
   ]
  },
  {
   "cell_type": "code",
   "execution_count": 97,
   "metadata": {},
   "outputs": [
    {
     "data": {
      "text/plain": [
       "array([[ 1.        ,  0.88451191,  0.79555051, ...,  0.40638795,\n",
       "         0.49464316,  0.38552395],\n",
       "       [ 1.        ,  0.87616902,  0.83434047, ...,  0.27719918,\n",
       "         0.44049124,  0.37091125],\n",
       "       [ 1.        ,  0.93897545,  0.84939361, ..., -0.47227529,\n",
       "        -0.29974246, -0.31806076],\n",
       "       ...,\n",
       "       [ 1.        ,  1.06925449,  1.22169392, ...,  2.71338656,\n",
       "         2.67390504,  2.88465908],\n",
       "       [ 1.        ,  0.82803863,  0.85826411, ...,  0.9355664 ,\n",
       "         0.89791103,  0.79736713],\n",
       "       [ 1.        ,  0.92147093,  0.88659066, ...,  0.91667136,\n",
       "         1.1083284 ,  1.1113415 ]])"
      ]
     },
     "execution_count": 97,
     "metadata": {},
     "output_type": "execute_result"
    }
   ],
   "source": [
    "X = SemiMartingale(X_0=1.0, vol=1.0)\n",
    "X.generate(100000, 100)"
   ]
  },
  {
   "cell_type": "code",
   "execution_count": 98,
   "metadata": {},
   "outputs": [],
   "source": [
    "inc = K.constant(X.get_total_increments())\n",
    "int_var = K.constant(X.integrated_variance())"
   ]
  },
  {
   "cell_type": "code",
   "execution_count": 99,
   "metadata": {},
   "outputs": [
    {
     "data": {
      "text/plain": [
       "<tf.Tensor: shape=(100000,), dtype=float32, numpy=\n",
       "array([-0.614476  , -0.62908876, -1.3180608 , ...,  1.884659  ,\n",
       "       -0.20263287,  0.1113415 ], dtype=float32)>"
      ]
     },
     "execution_count": 99,
     "metadata": {},
     "output_type": "execute_result"
    }
   ],
   "source": [
    "inc"
   ]
  },
  {
   "cell_type": "code",
   "execution_count": 103,
   "metadata": {},
   "outputs": [
    {
     "data": {
      "text/plain": [
       "<tf.Tensor: shape=(), dtype=float32, numpy=383.74237>"
      ]
     },
     "execution_count": 103,
     "metadata": {},
     "output_type": "execute_result"
    }
   ],
   "source": [
    "p_norm = 2\n",
    "degree = 10\n",
    "\n",
    "gaussian_moments = K.constant([gaussian_moment(p) for p in range(1, degree+1)])\n",
    "z_sample = inc / K.sqrt(int_var)\n",
    "sample_moments = K.stack([K.mean(z_sample**p, axis=0) for p in range(1, degree+1)])\n",
    "moment_diffs = K.abs(sample_moments - gaussian_moments)\n",
    "weights = np.exp(np.linspace(0, -1, num=degree))\n",
    "K.mean(weights * moment_diffs**p_norm)"
   ]
  },
  {
   "cell_type": "code",
   "execution_count": 101,
   "metadata": {},
   "outputs": [
    {
     "data": {
      "text/plain": [
       "<tf.Tensor: shape=(10,), dtype=float32, numpy=\n",
       "array([  0.,   1.,   0.,   3.,   0.,  15.,   0., 105.,   0., 945.],\n",
       "      dtype=float32)>"
      ]
     },
     "execution_count": 101,
     "metadata": {},
     "output_type": "execute_result"
    }
   ],
   "source": [
    "gaussian_moments"
   ]
  },
  {
   "cell_type": "code",
   "execution_count": 102,
   "metadata": {},
   "outputs": [
    {
     "data": {
      "text/plain": [
       "<tf.Tensor: shape=(10,), dtype=float32, numpy=\n",
       "array([8.8739133e-04, 9.9823749e-01, 8.6469101e-03, 2.9555957e+00,\n",
       "       1.2161723e-01, 1.4499716e+01, 1.7317578e+00, 9.8569351e+01,\n",
       "       2.6073780e+01, 8.4694281e+02], dtype=float32)>"
      ]
     },
     "execution_count": 102,
     "metadata": {},
     "output_type": "execute_result"
    }
   ],
   "source": [
    "sample_moments"
   ]
  },
  {
   "cell_type": "code",
   "execution_count": 136,
   "metadata": {},
   "outputs": [],
   "source": [
    "loss1 = MomentLoss(weights = None, degree=10)\n",
    "loss2 = MomentLoss(weights = 'exponential', degree=10)\n",
    "loss3 = MomentLoss(weights = 'factorial', degree=10)"
   ]
  },
  {
   "cell_type": "code",
   "execution_count": 137,
   "metadata": {},
   "outputs": [
    {
     "name": "stdout",
     "output_type": "stream",
     "text": [
      "tf.Tensor(1033.9674, shape=(), dtype=float32)\n",
      "tf.Tensor(0.05526517, shape=(), dtype=float32)\n",
      "tf.Tensor(0.00091985625, shape=(), dtype=float32)\n"
     ]
    }
   ],
   "source": [
    "print(loss1(inc, int_var))\n",
    "print(loss2(inc, int_var))\n",
    "print(loss3(inc, int_var))"
   ]
  },
  {
   "cell_type": "code",
   "execution_count": 171,
   "metadata": {},
   "outputs": [],
   "source": [
    "loss = MMDLoss(kernel = 'rbf', length_scale=2.0)"
   ]
  },
  {
   "cell_type": "code",
   "execution_count": 172,
   "metadata": {},
   "outputs": [
    {
     "data": {
      "text/plain": [
       "<tf.Tensor: shape=(), dtype=float32, numpy=0.7788008>"
      ]
     },
     "execution_count": 172,
     "metadata": {},
     "output_type": "execute_result"
    }
   ],
   "source": [
    "loss.kernel(1.0, 2.0)"
   ]
  }
 ],
 "metadata": {
  "kernelspec": {
   "display_name": "Python 3",
   "language": "python",
   "name": "python3"
  },
  "language_info": {
   "codemirror_mode": {
    "name": "ipython",
    "version": 3
   },
   "file_extension": ".py",
   "mimetype": "text/x-python",
   "name": "python",
   "nbconvert_exporter": "python",
   "pygments_lexer": "ipython3",
   "version": "3.7.7"
  }
 },
 "nbformat": 4,
 "nbformat_minor": 4
}
